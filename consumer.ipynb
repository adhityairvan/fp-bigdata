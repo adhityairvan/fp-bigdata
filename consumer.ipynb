{
 "cells": [
  {
   "cell_type": "code",
   "execution_count": 1,
   "metadata": {},
   "outputs": [],
   "source": [
    "from kafka import KafkaConsumer\n",
    "from json import loads,dump"
   ]
  },
  {
   "cell_type": "code",
   "execution_count": 2,
   "metadata": {},
   "outputs": [],
   "source": [
    "#init kafka customer\n",
    "consumer = KafkaConsumer(\n",
    "    'books',\n",
    "     bootstrap_servers=['localhost:9092'],\n",
    "     auto_offset_reset='earliest',\n",
    "     enable_auto_commit=True,\n",
    "     group_id='my-group',\n",
    "     value_deserializer=lambda x: loads(x.decode('utf-8')))"
   ]
  },
  {
   "cell_type": "code",
   "execution_count": 11,
   "metadata": {},
   "outputs": [],
   "source": [
    "books = []\n",
    "totalLength = 89411\n",
    "buffer = 0\n",
    "model = 1\n",
    "for message in consumer:\n",
    "    message = message.value\n",
    "    books.append(message)\n",
    "    if len(books) == 89411:\n",
    "        with open(\"dataset/books\"+str(model)+\".json\", \"w\") as file:\n",
    "            dump(books,file)\n",
    "        break\n",
    "        \n",
    "#     if buffer >= totalLength/3:\n",
    "#         with open(\"dataset/books\"+str(model)+\".json\", \"w\") as file:\n",
    "#             dump(books,file)\n",
    "#         model += 1\n",
    "#         buffer = 0\n",
    "#     if len(books) == 89411:\n",
    "#         with open(\"dataset/books\"+str(model)+\".json\", \"w\") as file:\n",
    "#             dump(books,file)\n",
    "#         break"
   ]
  },
  {
   "cell_type": "code",
   "execution_count": 14,
   "metadata": {},
   "outputs": [],
   "source": [
    "consumer2 = KafkaConsumer(\n",
    "    'interaction',\n",
    "     bootstrap_servers=['localhost:9092'],\n",
    "     auto_offset_reset='earliest',\n",
    "     enable_auto_commit=True,\n",
    "     group_id='my-group',\n",
    "     value_deserializer=lambda x: loads(x.decode('utf-8')))"
   ]
  },
  {
   "cell_type": "code",
   "execution_count": null,
   "metadata": {},
   "outputs": [],
   "source": [
    "totalLength = 7366386\n",
    "buffer = 0\n",
    "model = 1\n",
    "interactions = []\n",
    "for message in consumer2:\n",
    "    message = message.value\n",
    "    interactions.append(message)\n",
    "    if len(interactions) == totalLength:\n",
    "        with open(\"dataset/interactions\"+str(model)+\".json\", \"w\") as file:\n",
    "            dump(interactons,file)\n",
    "        break\n",
    "    if buffer >= totalLength/3:\n",
    "        with open(\"dataset/interaction\"+str(model)+\".json\", \"w\") as file:\n",
    "            dump(interactions,file)\n",
    "        model += 1\n",
    "        buffer = 0"
   ]
  },
  {
   "cell_type": "code",
   "execution_count": null,
   "metadata": {},
   "outputs": [],
   "source": []
  }
 ],
 "metadata": {
  "kernelspec": {
   "display_name": "Python 3",
   "language": "python",
   "name": "python3"
  },
  "language_info": {
   "codemirror_mode": {
    "name": "ipython",
    "version": 3
   },
   "file_extension": ".py",
   "mimetype": "text/x-python",
   "name": "python",
   "nbconvert_exporter": "python",
   "pygments_lexer": "ipython3",
   "version": "3.6.7"
  }
 },
 "nbformat": 4,
 "nbformat_minor": 2
}
